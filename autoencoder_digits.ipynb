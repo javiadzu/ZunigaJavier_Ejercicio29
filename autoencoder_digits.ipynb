{
  "nbformat": 4,
  "nbformat_minor": 0,
  "metadata": {
    "colab": {
      "name": "autoencoder_digits.ipynb",
      "provenance": []
    },
    "kernelspec": {
      "name": "python3",
      "display_name": "Python 3"
    }
  },
  "cells": [
    {
      "cell_type": "code",
      "metadata": {
        "id": "wK97TAIgaVhY",
        "colab_type": "code",
        "colab": {}
      },
      "source": [
        "\n",
        "import numpy as np\n",
        "import matplotlib.pyplot as plt\n",
        "import torch\n",
        "import torchvision\n",
        "import torchvision.datasets\n",
        "import torchvision.models\n",
        "import torchvision.transforms\n",
        "from sklearn.datasets import load_digits\n",
        "import sklearn.datasets\n",
        "import sklearn.preprocessing\n",
        "import sklearn.neural_network\n",
        "import sklearn.model_selection "
      ],
      "execution_count": 0,
      "outputs": []
    },
    {
      "cell_type": "code",
      "metadata": {
        "id": "dwYVyKU9bcLM",
        "colab_type": "code",
        "colab": {
          "base_uri": "https://localhost:8080/",
          "height": 51
        },
        "outputId": "02fd6a25-f38a-4bd5-83fc-900fd94686e1"
      },
      "source": [
        "numeros = sklearn.datasets.load_digits()\n",
        "X = numeros['images']  # Hay 1797 digitos representados en imagenes 8x8\n",
        "Y = numeros['target']\n",
        "print(np.shape(X))\n",
        "print (type(X))"
      ],
      "execution_count": 2,
      "outputs": [
        {
          "output_type": "stream",
          "text": [
            "(1797, 8, 8)\n",
            "<class 'numpy.ndarray'>\n"
          ],
          "name": "stdout"
        }
      ]
    },
    {
      "cell_type": "code",
      "metadata": {
        "id": "-WvKCFF9bdlb",
        "colab_type": "code",
        "colab": {
          "base_uri": "https://localhost:8080/",
          "height": 34
        },
        "outputId": "b4d5c0fd-9202-4331-c0eb-2ae6acf9e22e"
      },
      "source": [
        "#Estandarizamos los datos\n",
        "scaler = sklearn.preprocessing.StandardScaler()\n",
        "x_train=torch.from_numpy(X).float()\n",
        "mean = x_train.mean(dim=0)\n",
        "std = x_train.std(dim=0)\n",
        "std[std==0]=1.0\n",
        "\n",
        "for i in range(len(x_train)):\n",
        "    x_train[i] = (x_train[i]-mean)/std\n",
        "x_train = x_train.unsqueeze(1)\n",
        "print(np.shape(x_train))"
      ],
      "execution_count": 3,
      "outputs": [
        {
          "output_type": "stream",
          "text": [
            "torch.Size([1797, 1, 8, 8])\n"
          ],
          "name": "stdout"
        }
      ]
    },
    {
      "cell_type": "code",
      "metadata": {
        "id": "s0nAA2DDgUzt",
        "colab_type": "code",
        "colab": {}
      },
      "source": [
        "# define el autoencoder\n",
        "class Autoencoder(torch.nn.Module):\n",
        "    def __init__(self):\n",
        "        super(Autoencoder,self).__init__()\n",
        "        self.encoder = torch.nn.Sequential(\n",
        "            torch.nn.Conv2d(1, 50, kernel_size=3, stride=1),\n",
        "            torch.nn.ReLU(True),\n",
        "            torch.nn.Conv2d(50,40,kernel_size=1),\n",
        "            torch.nn.ReLU(True),\n",
        "            torch.nn.Conv2d(40,30,kernel_size=1),\n",
        "            torch.nn.ReLU(True))\n",
        "        self.decoder = torch.nn.Sequential(\n",
        "            torch.nn.Conv2d(30,40,kernel_size=1),\n",
        "            torch.nn.ReLU(True),\n",
        "            torch.nn.ConvTranspose2d(40,50,kernel_size=1),\n",
        "            torch.nn.ReLU(True),\n",
        "            torch.nn.ConvTranspose2d(50,1,kernel_size=3, stride=1),\n",
        "            torch.nn.ReLU(True))\n",
        "    def forward(self,x):\n",
        "        x = self.encoder(x)\n",
        "        x = self.decoder(x)\n",
        "        return x"
      ],
      "execution_count": 0,
      "outputs": []
    },
    {
      "cell_type": "code",
      "metadata": {
        "id": "itUM3njcoCy1",
        "colab_type": "code",
        "colab": {}
      },
      "source": [
        "# inicializa modelo, loss y optimizador\n",
        "num_epochs = 100\n",
        "model = Autoencoder()\n",
        "distance = torch.nn.MSELoss()\n",
        "optimizer = torch.optim.Adam(model.parameters(), lr=0.008, weight_decay=1.7E-3)"
      ],
      "execution_count": 0,
      "outputs": []
    },
    {
      "cell_type": "code",
      "metadata": {
        "id": "5tpD6srkiPXv",
        "colab_type": "code",
        "colab": {}
      },
      "source": [
        "#Loss lista\n",
        "lloss=np.zeros(num_epochs)\n",
        "# entrenamiento\n",
        "for epoch in range(num_epochs):\n",
        "    output = model(x_train)\n",
        "    loss = distance(output, x_train)\n",
        "    lloss[epoch]=loss.item()\n",
        "    optimizer.zero_grad()\n",
        "    loss.backward()\n",
        "    optimizer.step()\n"
      ],
      "execution_count": 0,
      "outputs": []
    },
    {
      "cell_type": "code",
      "metadata": {
        "id": "mE-mXhnFiRk3",
        "colab_type": "code",
        "colab": {
          "base_uri": "https://localhost:8080/",
          "height": 312
        },
        "outputId": "0987fa85-b911-430a-bdca-ba78c55ef5b8"
      },
      "source": [
        "plt.plot(np.arange(1,101),lloss, 'r')\n",
        "plt.title('Loss Vs. Epoch')\n",
        "plt.xlabel('Epoch')\n",
        "plt.ylabel('Loss')"
      ],
      "execution_count": 10,
      "outputs": [
        {
          "output_type": "execute_result",
          "data": {
            "text/plain": [
              "Text(0, 0.5, 'Loss')"
            ]
          },
          "metadata": {
            "tags": []
          },
          "execution_count": 10
        },
        {
          "output_type": "display_data",
          "data": {
            "image/png": "[encoded data removed]",
            "text/plain": [
              "<Figure size 432x288 with 1 Axes>"
            ]
          },
          "metadata": {
            "tags": [],
            "needs_background": "light"
          }
        }
      ]
    },
    {
      "cell_type": "code",
      "metadata": {
        "id": "kw7cl5Un8omY",
        "colab_type": "code",
        "colab": {}
      },
      "source": [
        "x_transform = model(x_train)\n",
        "latent_space = model.encoder(x_train)"
      ],
      "execution_count": 0,
      "outputs": []
    },
    {
      "cell_type": "code",
      "metadata": {
        "id": "CUHggX0s59Pe",
        "colab_type": "code",
        "colab": {
          "base_uri": "https://localhost:8080/",
          "height": 494
        },
        "outputId": "890a16c3-c288-44ce-b0ee-f3e748bb9030"
      },
      "source": [
        "# muestra los resultados de las cuatro capas de convolucion\n",
        "plt.figure(figsize=(14,14))\n",
        "offset = 1\n",
        "for i in range(5):\n",
        "    plt.subplot(5,5,i+1) #imagenes originales\n",
        "    plt.imshow(x_train[i+offset][0].detach().numpy())\n",
        "    \n",
        "    j=0 # las imagenes reconstruidas por el autoencoder\n",
        "    plt.subplot(5,5,(i+1)+5*(j+1))\n",
        "    plt.imshow(x_transform[i+offset][0].detach().numpy())\n",
        "    \n",
        "    j=1 # una de las capas de la representacion latente\n",
        "    plt.subplot(5,5,(i+1)+5*(j+1))\n",
        "    plt.imshow(latent_space[i+offset][2].detach().numpy())\n"
      ],
      "execution_count": 16,
      "outputs": [
        {
          "output_type": "display_data",
          "data": {
            "image/png": "[encoded data removed]",
            "text/plain": [
              "<Figure size 1008x1008 with 15 Axes>"
            ]
          },
          "metadata": {
            "tags": [],
            "needs_background": "light"
          }
        }
      ]
    },
    {
      "cell_type": "code",
      "metadata": {
        "id": "hJZuDSKp8kKO",
        "colab_type": "code",
        "colab": {}
      },
      "source": [
        ""
      ],
      "execution_count": 0,
      "outputs": []
    }
  ]
}